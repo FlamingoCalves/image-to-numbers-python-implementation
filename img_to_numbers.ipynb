{
 "cells": [
  {
   "cell_type": "code",
   "execution_count": 3,
   "metadata": {},
   "outputs": [
    {
     "data": {
      "text/plain": [
       "((6, 6, 3),\n",
       " array([[[232,   0,  26],\n",
       "         [232,   0,  26],\n",
       "         [232,   0,  26],\n",
       "         [232,   0,  26],\n",
       "         [232,   0,  26],\n",
       "         [232,   0,  27]],\n",
       " \n",
       "        [[ 20,  23, 208],\n",
       "         [ 20,  23, 208],\n",
       "         [ 20,  23, 208],\n",
       "         [ 20,  23, 208],\n",
       "         [ 20,  23, 208],\n",
       "         [ 21,  24, 208]],\n",
       " \n",
       "        [[ 18, 223,  42],\n",
       "         [ 18, 223,  42],\n",
       "         [ 18, 223,  42],\n",
       "         [ 18, 223,  42],\n",
       "         [ 18, 223,  42],\n",
       "         [ 19, 223,  43]],\n",
       " \n",
       "        [[235, 114, 161],\n",
       "         [235, 114, 161],\n",
       "         [235, 114, 161],\n",
       "         [235, 114, 161],\n",
       "         [235, 114, 161],\n",
       "         [235, 115, 162]],\n",
       " \n",
       "        [[255,  99,  18],\n",
       "         [255,  99,  18],\n",
       "         [255,  99,  18],\n",
       "         [255,  99,  18],\n",
       "         [255,  99,  18],\n",
       "         [255, 100,  19]],\n",
       " \n",
       "        [[243, 240,   0],\n",
       "         [243, 240,   0],\n",
       "         [243, 240,   0],\n",
       "         [243, 240,   0],\n",
       "         [243, 240,   0],\n",
       "         [243, 240,   0]]], dtype=uint8))"
      ]
     },
     "execution_count": 3,
     "metadata": {},
     "output_type": "execute_result"
    }
   ],
   "source": [
    "from PIL import Image\n",
    "import numpy as np\n",
    "\n",
    "# Loading the original image from the video\n",
    "img_path = 'turn those images into numbers_only (1).png'\n",
    "img = Image.open(img_path)\n",
    "\n",
    "# Since we want a (6,6,3) array, we will resize the image to 6x6\n",
    "img_resized = img.resize((6, 6))\n",
    "\n",
    "# Convert the image to a numpy array\n",
    "img_array = np.array(img_resized)\n",
    "\n",
    "# The image is now a (6,6,3) array, representing the RGB values\n",
    "img_array[:, :, :3].shape, img_array[:, :, :3]"
   ]
  },
  {
   "cell_type": "code",
   "execution_count": 4,
   "metadata": {},
   "outputs": [
    {
     "data": {
      "text/plain": [
       "array([[[ 32,  31, 238],\n",
       "        [ 32,  31, 238],\n",
       "        [ 32,  31, 238],\n",
       "        [ 32,  31, 238],\n",
       "        [ 32,  31, 238],\n",
       "        [ 32,  31, 238]],\n",
       "\n",
       "       [[193,  19, 203],\n",
       "        [193,  19, 203],\n",
       "        [193,  19, 203],\n",
       "        [193,  19, 203],\n",
       "        [193,  19, 203],\n",
       "        [193,  19, 203]],\n",
       "\n",
       "       [[172, 185,  39],\n",
       "        [172, 185,  39],\n",
       "        [172, 185,  39],\n",
       "        [172, 185,  39],\n",
       "        [172, 185,  39],\n",
       "        [172, 185,  39]],\n",
       "\n",
       "       [[218,  19, 163],\n",
       "        [218,  19, 163],\n",
       "        [218,  19, 163],\n",
       "        [218,  19, 163],\n",
       "        [218,  19, 163],\n",
       "        [218,  19, 163]],\n",
       "\n",
       "       [[ 40,  51, 159],\n",
       "        [ 40,  51, 159],\n",
       "        [ 40,  51, 159],\n",
       "        [ 40,  51, 159],\n",
       "        [ 40,  51, 159],\n",
       "        [ 40,  51, 159]],\n",
       "\n",
       "       [[234,  26,  93],\n",
       "        [234,  26,  93],\n",
       "        [234,  26,  93],\n",
       "        [234,  26,  93],\n",
       "        [234,  26,  93],\n",
       "        [234,  26,  93]]], dtype=uint8)"
      ]
     },
     "metadata": {},
     "output_type": "display_data"
    },
    {
     "data": {
      "image/jpeg": "[encoded data removed]",
      "image/png": "[encoded data removed]",
      "text/plain": [
       "<PIL.Image.Image image mode=RGB size=600x600>"
      ]
     },
     "metadata": {},
     "output_type": "display_data"
    }
   ],
   "source": [
    "import random\n",
    "\n",
    "def generate_random_image_array():\n",
    "    # Initialize an empty (6, 6, 3) array\n",
    "    image_array = np.zeros((6, 6, 3), dtype=np.uint8)\n",
    "\n",
    "    # For each row, generate a random RGB color and fill the row with it\n",
    "    for i in range(6):\n",
    "        # Generate a random RGB color\n",
    "        color = [random.randint(0, 255) for _ in range(3)]\n",
    "        # Assign the color to the entire row\n",
    "        image_array[i, :, :] = color\n",
    "    \n",
    "    return image_array\n",
    "\n",
    "def generate_scaled_image_array(new_row_size):\n",
    "    \"\"\"\n",
    "    Generates a (6, 6, 3) image array with random colors for each row and scales it up.\n",
    "    Each of the 6 rows of colors will be repeated 'new_row_size' times to create a larger image.\n",
    "    \n",
    "    :param new_row_size: Number of times each row color is repeated to scale up the image.\n",
    "    :return: Scaled-up image array.\n",
    "    \"\"\"\n",
    "    # Generate the base (6, 6, 3) image array with random colors\n",
    "    base_image_array = generate_random_image_array()\n",
    "\n",
    "    # Scale up each row individually\n",
    "    scaled_image_array = np.repeat(base_image_array, new_row_size, axis=0)\n",
    "    scaled_image_array = np.repeat(scaled_image_array, new_row_size, axis=1)\n",
    "    \n",
    "    return scaled_image_array, base_image_array\n",
    "\n",
    "# Specify the new size for each row. For example, let's scale it up to 100 pixels per row.\n",
    "new_row_size = 100\n",
    "\n",
    "scaled_sample_image_array, sample_image_array = generate_scaled_image_array(new_row_size)\n",
    "\n",
    "# Now we'll create a PIL image from this scaled array to visualize the result\n",
    "scaled_sample_image = Image.fromarray(scaled_sample_image_array)\n",
    "\n",
    "# Display the results\n",
    "display(sample_image_array)\n",
    "display(scaled_sample_image)"
   ]
  }
 ],
 "metadata": {
  "kernelspec": {
   "display_name": "stable_diff_venv",
   "language": "python",
   "name": "python3"
  },
  "language_info": {
   "codemirror_mode": {
    "name": "ipython",
    "version": 3
   },
   "file_extension": ".py",
   "mimetype": "text/x-python",
   "name": "python",
   "nbconvert_exporter": "python",
   "pygments_lexer": "ipython3",
   "version": "3.10.2"
  }
 },
 "nbformat": 4,
 "nbformat_minor": 2
}
